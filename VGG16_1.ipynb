{
 "cells": [
  {
   "cell_type": "code",
   "execution_count": 10,
   "metadata": {
    "scrolled": true
   },
   "outputs": [],
   "source": [
    "# VGG16 is 533MB \n",
    "from tensorflow.keras.applications.vgg16 import VGG16,preprocess_input,decode_predictions"
   ]
  },
  {
   "cell_type": "code",
   "execution_count": 35,
   "metadata": {},
   "outputs": [],
   "source": [
    "# Load image\n",
    "from tensorflow.keras.preprocessing.image import load_img,img_to_array"
   ]
  },
  {
   "cell_type": "code",
   "execution_count": 13,
   "metadata": {},
   "outputs": [
    {
     "name": "stdout",
     "output_type": "stream",
     "text": [
      "Downloading data from https://storage.googleapis.com/tensorflow/keras-applications/vgg16/vgg16_weights_tf_dim_ordering_tf_kernels.h5\n",
      "553467904/553467096 [==============================] - 135s 0us/step\n"
     ]
    }
   ],
   "source": [
    "model=VGG16() # VGG network are trained over 1000 classes"
   ]
  },
  {
   "cell_type": "code",
   "execution_count": 14,
   "metadata": {},
   "outputs": [
    {
     "name": "stdout",
     "output_type": "stream",
     "text": [
      "Model: \"vgg16\"\n",
      "_________________________________________________________________\n",
      "Layer (type)                 Output Shape              Param #   \n",
      "=================================================================\n",
      "input_1 (InputLayer)         [(None, 224, 224, 3)]     0         \n",
      "_________________________________________________________________\n",
      "block1_conv1 (Conv2D)        (None, 224, 224, 64)      1792      \n",
      "_________________________________________________________________\n",
      "block1_conv2 (Conv2D)        (None, 224, 224, 64)      36928     \n",
      "_________________________________________________________________\n",
      "block1_pool (MaxPooling2D)   (None, 112, 112, 64)      0         \n",
      "_________________________________________________________________\n",
      "block2_conv1 (Conv2D)        (None, 112, 112, 128)     73856     \n",
      "_________________________________________________________________\n",
      "block2_conv2 (Conv2D)        (None, 112, 112, 128)     147584    \n",
      "_________________________________________________________________\n",
      "block2_pool (MaxPooling2D)   (None, 56, 56, 128)       0         \n",
      "_________________________________________________________________\n",
      "block3_conv1 (Conv2D)        (None, 56, 56, 256)       295168    \n",
      "_________________________________________________________________\n",
      "block3_conv2 (Conv2D)        (None, 56, 56, 256)       590080    \n",
      "_________________________________________________________________\n",
      "block3_conv3 (Conv2D)        (None, 56, 56, 256)       590080    \n",
      "_________________________________________________________________\n",
      "block3_pool (MaxPooling2D)   (None, 28, 28, 256)       0         \n",
      "_________________________________________________________________\n",
      "block4_conv1 (Conv2D)        (None, 28, 28, 512)       1180160   \n",
      "_________________________________________________________________\n",
      "block4_conv2 (Conv2D)        (None, 28, 28, 512)       2359808   \n",
      "_________________________________________________________________\n",
      "block4_conv3 (Conv2D)        (None, 28, 28, 512)       2359808   \n",
      "_________________________________________________________________\n",
      "block4_pool (MaxPooling2D)   (None, 14, 14, 512)       0         \n",
      "_________________________________________________________________\n",
      "block5_conv1 (Conv2D)        (None, 14, 14, 512)       2359808   \n",
      "_________________________________________________________________\n",
      "block5_conv2 (Conv2D)        (None, 14, 14, 512)       2359808   \n",
      "_________________________________________________________________\n",
      "block5_conv3 (Conv2D)        (None, 14, 14, 512)       2359808   \n",
      "_________________________________________________________________\n",
      "block5_pool (MaxPooling2D)   (None, 7, 7, 512)         0         \n",
      "_________________________________________________________________\n",
      "flatten (Flatten)            (None, 25088)             0         \n",
      "_________________________________________________________________\n",
      "fc1 (Dense)                  (None, 4096)              102764544 \n",
      "_________________________________________________________________\n",
      "fc2 (Dense)                  (None, 4096)              16781312  \n",
      "_________________________________________________________________\n",
      "predictions (Dense)          (None, 1000)              4097000   \n",
      "=================================================================\n",
      "Total params: 138,357,544\n",
      "Trainable params: 138,357,544\n",
      "Non-trainable params: 0\n",
      "_________________________________________________________________\n"
     ]
    }
   ],
   "source": [
    "model.summary()"
   ]
  },
  {
   "cell_type": "code",
   "execution_count": 25,
   "metadata": {},
   "outputs": [],
   "source": [
    "import os\n",
    "import matplotlib.pyplot as plt"
   ]
  },
  {
   "cell_type": "code",
   "execution_count": 47,
   "metadata": {},
   "outputs": [
    {
     "name": "stdout",
     "output_type": "stream",
     "text": [
      "[[('n07730033', 'cardoon', 0.32996157), ('n12768682', 'buckeye', 0.26595306)]]\n",
      "\n",
      "[[('n07802026', 'hay', 0.0716588), ('n09332890', 'lakeside', 0.05169705)]]\n",
      "\n",
      "[[('n02280649', 'cabbage_butterfly', 0.4436045), ('n02277742', 'ringlet', 0.16380702)]]\n",
      "\n",
      "[[('n04286575', 'spotlight', 0.099850394), ('n03930313', 'picket_fence', 0.09780786)]]\n",
      "\n",
      "[[('n02319095', 'sea_urchin', 0.71352416), ('n12768682', 'buckeye', 0.07683818)]]\n",
      "\n",
      "[[('n07734744', 'mushroom', 0.22003084), ('n04399382', 'teddy', 0.09636667)]]\n",
      "\n",
      "[[('n02319095', 'sea_urchin', 0.28062525), ('n03388043', 'fountain', 0.12246277)]]\n",
      "\n",
      "[[('n11939491', 'daisy', 0.24576372), ('n02280649', 'cabbage_butterfly', 0.16952676)]]\n",
      "\n",
      "[[('n02280649', 'cabbage_butterfly', 0.6193188), ('n02277742', 'ringlet', 0.19169196)]]\n",
      "\n",
      "[[('n11939491', 'daisy', 0.9994832), ('n02190166', 'fly', 0.000199563)]]\n",
      "\n",
      "[[('n11939491', 'daisy', 0.9429064), ('n02281787', 'lycaenid', 0.018345952)]]\n",
      "\n",
      "[[('n11939491', 'daisy', 0.9999341), ('n02206856', 'bee', 2.525636e-05)]]\n",
      "\n",
      "[[('n11939491', 'daisy', 0.98252434), ('n02190166', 'fly', 0.004287818)]]\n",
      "\n",
      "[[('n11939491', 'daisy', 0.9902096), ('n02206856', 'bee', 0.0016005224)]]\n",
      "\n",
      "[[('n11939491', 'daisy', 0.99230146), ('n02206856', 'bee', 0.0019509075)]]\n",
      "\n",
      "[[('n11939491', 'daisy', 0.23187385), ('n03991062', 'pot', 0.086459)]]\n",
      "\n",
      "[[('n03930313', 'picket_fence', 0.5817428), ('n11939491', 'daisy', 0.17118612)]]\n",
      "\n"
     ]
    }
   ],
   "source": [
    "for file in os.listdir('sample'):\n",
    "    #print(file)\n",
    "    full_path='sample/' + file\n",
    "    #print(full_path)\n",
    "    # Load image 224X224 size - Default input size for VGG16\n",
    "    image=load_img(full_path,target_size=(224,224))\n",
    "    image=img_to_array(image) # Image data encoded as integers in the 0–255 range\n",
    "    #image /= 255. # Normalize to [0,1] for plt.imshow application\n",
    "    #plt.imshow(image)\n",
    "    image=image.reshape((1,image.shape[0],image.shape[1],image.shape[2])) # reshape image to four dimentional image\n",
    "    # preprocess the image\n",
    "    image=preprocess_input(image)\n",
    "    # predict\n",
    "    y_predict=model.predict(image)\n",
    "    # decode predictions\n",
    "    label=decode_predictions(y_predict, top=2)\n",
    "    print(label)\n",
    "    print()"
   ]
  },
  {
   "cell_type": "code",
   "execution_count": null,
   "metadata": {},
   "outputs": [],
   "source": []
  },
  {
   "cell_type": "code",
   "execution_count": null,
   "metadata": {},
   "outputs": [],
   "source": []
  }
 ],
 "metadata": {
  "kernelspec": {
   "display_name": "Python 3",
   "language": "python",
   "name": "python3"
  },
  "language_info": {
   "codemirror_mode": {
    "name": "ipython",
    "version": 3
   },
   "file_extension": ".py",
   "mimetype": "text/x-python",
   "name": "python",
   "nbconvert_exporter": "python",
   "pygments_lexer": "ipython3",
   "version": "3.7.4"
  }
 },
 "nbformat": 4,
 "nbformat_minor": 2
}
